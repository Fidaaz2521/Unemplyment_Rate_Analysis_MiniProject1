{
  "nbformat": 4,
  "nbformat_minor": 0,
  "metadata": {
    "colab": {
      "provenance": [],
      "authorship_tag": "ABX9TyNSxVPZ+v5LceL5CBPkFYiK",
      "include_colab_link": true
    },
    "kernelspec": {
      "name": "python3",
      "display_name": "Python 3"
    },
    "language_info": {
      "name": "python"
    }
  },
  "cells": [
    {
      "cell_type": "markdown",
      "metadata": {
        "id": "view-in-github",
        "colab_type": "text"
      },
      "source": [
        "<a href=\"https://colab.research.google.com/github/Fidaaz2521/Unemplyment_Rate_Analysis_MiniProject1/blob/main/Fida_UnemploymentRateAnalysis_MiniProject1.ipynb\" target=\"_parent\"><img src=\"https://colab.research.google.com/assets/colab-badge.svg\" alt=\"Open In Colab\"/></a>"
      ]
    },
    {
      "cell_type": "markdown",
      "source": [
        "# **Project Name: UNEMPLOYMENT RATE ANALYSIS BY REGION**"
      ],
      "metadata": {
        "id": "YKkgLmXdsgj9"
      }
    },
    {
      "cell_type": "markdown",
      "source": [
        "Project Type - EXPLORATORY DATA ANALYSIS and HYPOTHESIS TESTING\n",
        "\n",
        "Contribution- Individual\n",
        "\n",
        "### Submitted By - Fida Taneem"
      ],
      "metadata": {
        "id": "OvhWumLytXfM"
      }
    },
    {
      "cell_type": "markdown",
      "source": [
        "## **PROJECT SUMMARY**"
      ],
      "metadata": {
        "id": "Tq293Gc3yRqK"
      }
    },
    {
      "cell_type": "markdown",
      "source": [
        "**OBJECTIVE:**\n",
        "\n",
        "\n",
        "To perform a detailed Exploratory Data Analysis (EDA) on U.S. unemployment data, aiming to:\n",
        "\n",
        "1. Identify patterns and anomalies in unemployment trends across states and regions.\n",
        "\n",
        "2. Compare pre-crisis, crisis, and post-crisis periods, focusing on:\n",
        "\n",
        "  *The 2008 Global Financial Crisis.\n",
        "\n",
        "  *The 2020 COVID-19 pandemic.\n",
        "\n",
        "3. Understand regional disparities in unemployment trends.\n",
        "\n",
        "4. Provide actionable insights that can guide:\n",
        "\n",
        "  *Economic policy analysis.\n",
        "\n",
        "  *Labor market interventions.\n",
        "\n",
        "  *Investment or business decisions."
      ],
      "metadata": {
        "id": "uQuHlj1YtsRC"
      }
    },
    {
      "cell_type": "markdown",
      "source": [
        "**BUSINESS CONTEXT**\n",
        "\n",
        "Understanding unemployment trends is vital for:\n",
        "\n",
        "1.Government & Policy Makers: To assess the effectiveness of past economic policies and plan for future shocks.\n",
        "\n",
        "2.Economists & Researchers: To understand labor market behaviors and regional disparities.\n",
        "\n",
        "3.Businesses & Investors: To evaluate regional economic health, labor availability, and risk exposure.\n",
        "\n",
        "4.Citizens & Job Seekers: To inform relocation or career decisions based on labor market trends.\n",
        "\n",
        "The U.S. Bureau of Labor Statistics (BLS) provides detailed monthly unemployment data at the state level, while the World Bank offers a consistent national-level unemployment series, suitable for long-term and international comparison."
      ],
      "metadata": {
        "id": "4DmpRWdi0qcM"
      }
    },
    {
      "cell_type": "markdown",
      "source": [
        "**Subject:** Economics\n",
        "\n",
        "**Data Sources:** U.S. Bureau of Labor Statistics (BLS), World Bank"
      ],
      "metadata": {
        "id": "_ezEKKChyNO0"
      }
    },
    {
      "cell_type": "markdown",
      "source": [
        "**DATA OVERVIEW**\n",
        "\n",
        "1. **Bureau of Labor Statistics (BLS) – State-Level Data**\n",
        "\n",
        "  Frequency: Monthly.\n",
        "\n",
        "  Coverage: All 50 U.S. states + D.C.\n",
        "\n",
        "  *Metrics:*\n",
        "\n",
        "  Unemployment Rate (%).\n",
        "\n",
        "  Labor Force Participation.\n",
        "\n",
        "  Employment & Unemployment counts.\n",
        "\n",
        "  Period: 2000–2025 (ideal).\n",
        "\n",
        "\n",
        "2. **World Bank – National-Level Data**\n",
        "\n",
        "  Frequency: Annual.\n",
        "\n",
        "  Coverage: U.S. only (but globally comparable).\n",
        "\n",
        "  Metric: National Unemployment Rate (%).\n",
        "\n",
        "  Period: 2000–2024."
      ],
      "metadata": {
        "id": "AjmB7L211Npg"
      }
    },
    {
      "cell_type": "markdown",
      "source": [
        "# **DATA PREPROCESSING**\n",
        "\n",
        "\n",
        "**1.Data Collection**\n",
        "\n",
        "BLS CSV downloads from bls.gov\n",
        "\n",
        "World Bank unemployment data via data.worldbank.org\n",
        "\n",
        "\n",
        " 2.**Cleaning**\n",
        "\n",
        "Handle missing values (e.g., for recent months or certain territories).\n",
        "\n",
        "Standardize date formats.\n",
        "\n",
        "Ensure consistent state names.\n",
        "\n",
        "Align monthly (BLS) and annual (World Bank) data for combined plots.\n",
        "\n",
        "\n",
        "3.**Feature Engineering**\n",
        "\n",
        "Add:\n",
        "\n",
        "Region column (Northeast, Midwest, South, West).\n",
        "\n",
        "Crisis Period Flags (2008–2010, 2020–2021).\n",
        "\n",
        "Year-over-year and  unemployment change.\n",
        "\n",
        "Yearly averages ."
      ],
      "metadata": {
        "id": "q9P4JJ1_2CZJ"
      }
    },
    {
      "cell_type": "markdown",
      "source": [
        "# **TECHNIQUES USED IN EDA**\n",
        "\n",
        "Here are the EDA techniques you’d typically use:\n",
        "\n",
        "**1. Univariate Analysis**\n",
        "\n",
        "Histogram, Boxplot of unemployment rates.\n",
        "\n",
        "Distribution analysis across states or years.\n",
        "\n",
        "**2. Bivariate Analysis**\n",
        "\n",
        "Line plots: Unemployment over time (national vs states).\n",
        "\n",
        "Heatmaps: State unemployment by year/month.\n",
        "\n",
        "Bar charts: Yearly average unemployment per state.\n",
        "\n",
        "**3. Multivariate Analysis**\n",
        "\n",
        "Compare unemployment vs. labor force participation or GDP growth.\n",
        "\n",
        "Cluster states based on unemployment patterns.\n",
        "\n",
        "**4. Time Series Analysis**\n",
        "\n",
        "Rolling averages.\n",
        "\n",
        "Trend/seasonality decomposition.\n",
        "\n",
        "Crisis period comparison (2008 vs 2020):\n",
        "\n",
        "Pre-crisis (2006–2007, 2018–2019)\n",
        "\n",
        "Crisis (2008–2010, 2020–2021)\n",
        "\n",
        "Recovery (2011–2015, 2022–2024)\n",
        "\n",
        "\n",
        "\n",
        "**7. Correlation and Trend Analysis**\n",
        "\n",
        "Correlation heatmap (between states or variables).\n",
        "\n",
        "Identify synchronized/unusual trends across time.\n",
        "\n",
        "**8. Hypothesis Testing**"
      ],
      "metadata": {
        "id": "8bydi8dg3Y_6"
      }
    },
    {
      "cell_type": "markdown",
      "source": [
        "# **GITHUB LINK:**\n",
        "\n",
        "https://github.com/Fidaaz2521/Unemplyment_Rate_Analysis_MiniProject1"
      ],
      "metadata": {
        "id": "vEJ4d2bJ39kk"
      }
    },
    {
      "cell_type": "markdown",
      "source": [
        "# **LET'S BEGIN**"
      ],
      "metadata": {
        "id": "VSkNibex-Kll"
      }
    },
    {
      "cell_type": "markdown",
      "source": [
        "**IMPORTING LIBRARIES**\n"
      ],
      "metadata": {
        "id": "z3yCNjpY-RGG"
      }
    },
    {
      "cell_type": "code",
      "execution_count": null,
      "metadata": {
        "id": "RtHNyhh1sLoW"
      },
      "outputs": [],
      "source": [
        "import numpy as np\n",
        "import pandas as pd\n",
        "import math\n",
        "from numpy import loadtxt\n",
        "import seaborn as sns\n",
        "import matplotlib.pyplot as plt\n",
        "import missingno"
      ]
    },
    {
      "cell_type": "markdown",
      "source": [
        "**Importing the Dataset into Google Colab**"
      ],
      "metadata": {
        "id": "d9Byq2oV-2rc"
      }
    },
    {
      "cell_type": "code",
      "source": [
        "\n",
        "\n",
        "# State-level unemployment data\n",
        "df1 = pd.read_csv('https://raw.githubusercontent.com/Fidaaz2521/Unemplyment_Rate_Analysis_MiniProject1/main/us_states_unemployment_2000_2024_synthetic.csv')\n",
        "\n",
        "# World Bank (region-level) unemployment data\n",
        "df2 = pd.read_csv('https://raw.githubusercontent.com/Fidaaz2521/Unemplyment_Rate_Analysis_MiniProject1/main/worldbank_regions_unemployment_2000_2024_synthetic.csv')\n"
      ],
      "metadata": {
        "id": "7-GWINMoB7CX"
      },
      "execution_count": null,
      "outputs": []
    },
    {
      "cell_type": "markdown",
      "source": [
        "# **Understanding the data**"
      ],
      "metadata": {
        "id": "GUGtsWKcSzcc"
      }
    },
    {
      "cell_type": "code",
      "source": [
        "df1.head()\n",
        "\n"
      ],
      "metadata": {
        "id": "YVCGelUFCALT"
      },
      "execution_count": null,
      "outputs": []
    },
    {
      "cell_type": "code",
      "source": [
        "df1.tail()"
      ],
      "metadata": {
        "id": "xyQ6F0cSTwjl"
      },
      "execution_count": null,
      "outputs": []
    },
    {
      "cell_type": "code",
      "source": [
        "df2.head()"
      ],
      "metadata": {
        "id": "g50G537aCAIn"
      },
      "execution_count": null,
      "outputs": []
    },
    {
      "cell_type": "code",
      "source": [
        "df2.tail()"
      ],
      "metadata": {
        "id": "RegPJq0oCAFf"
      },
      "execution_count": null,
      "outputs": []
    },
    {
      "cell_type": "code",
      "source": [
        "df1.shape"
      ],
      "metadata": {
        "id": "HQZltmMeCACz"
      },
      "execution_count": null,
      "outputs": []
    },
    {
      "cell_type": "code",
      "source": [
        "df2.shape"
      ],
      "metadata": {
        "id": "Y2QcYRB3B__2"
      },
      "execution_count": null,
      "outputs": []
    },
    {
      "cell_type": "code",
      "source": [
        "df1.info()"
      ],
      "metadata": {
        "id": "ymndBzfJB_8J"
      },
      "execution_count": null,
      "outputs": []
    },
    {
      "cell_type": "code",
      "source": [
        "df2.info()"
      ],
      "metadata": {
        "id": "DsF3jL3dB_18"
      },
      "execution_count": null,
      "outputs": []
    },
    {
      "cell_type": "markdown",
      "source": [
        "# **Total Unique values in each column**"
      ],
      "metadata": {
        "id": "FQcJ9DErUsHh"
      }
    },
    {
      "cell_type": "code",
      "source": [
        "df1.nunique()"
      ],
      "metadata": {
        "id": "x05IXY5FB_vf"
      },
      "execution_count": null,
      "outputs": []
    },
    {
      "cell_type": "code",
      "source": [
        "df1[\"region\"].unique()"
      ],
      "metadata": {
        "id": "bPgdCwlzcWmD"
      },
      "execution_count": null,
      "outputs": []
    },
    {
      "cell_type": "code",
      "source": [
        "df2.nunique()"
      ],
      "metadata": {
        "id": "LeLzIPHKU9yP"
      },
      "execution_count": null,
      "outputs": []
    },
    {
      "cell_type": "code",
      "source": [
        "df2[\"wb_region\"].unique()"
      ],
      "metadata": {
        "id": "TPx5_XSfcb3g"
      },
      "execution_count": null,
      "outputs": []
    },
    {
      "cell_type": "markdown",
      "source": [
        "# **Finding total null values in each column**"
      ],
      "metadata": {
        "id": "Ngc2v9HaVLYx"
      }
    },
    {
      "cell_type": "code",
      "source": [
        "df1.isnull().sum()"
      ],
      "metadata": {
        "id": "wVccSK3pU9sa"
      },
      "execution_count": null,
      "outputs": []
    },
    {
      "cell_type": "code",
      "source": [
        "df2.isnull().sum()"
      ],
      "metadata": {
        "id": "UPsQM8k9U9pc"
      },
      "execution_count": null,
      "outputs": []
    },
    {
      "cell_type": "code",
      "source": [
        "# Visualizing the missing values in df1 using missingno\n",
        "missingno.matrix(df1)\n",
        "# Visualizing the missing values in df2 using missingno\n",
        "missingno.matrix(df2)"
      ],
      "metadata": {
        "id": "2h4nBAuWU9mW"
      },
      "execution_count": null,
      "outputs": []
    },
    {
      "cell_type": "markdown",
      "source": [
        "# **Finding total duplicates in the dataset**"
      ],
      "metadata": {
        "id": "OF7aNAo3Z4OE"
      }
    },
    {
      "cell_type": "code",
      "source": [
        "print(\"Duplicates in state level unemployment data:\",df1.duplicated().sum())\n",
        "print(\"Duplicates in World Bank (region-level) unemployment data \",df2.duplicated().sum())\n",
        "\n",
        "#no duplicates , the data is clean ."
      ],
      "metadata": {
        "id": "K_epfy2FU9g7"
      },
      "execution_count": null,
      "outputs": []
    },
    {
      "cell_type": "markdown",
      "source": [
        "# **Understanding the variables**"
      ],
      "metadata": {
        "id": "J_QIGWAKa4Lz"
      }
    },
    {
      "cell_type": "code",
      "source": [
        "# Dataset Columns\n",
        "print(\"Features in state level unemployment data: \",df1.columns.tolist())\n",
        "print(\"Features in World Bank (region-level) unemployment data: \",df2.columns.tolist())"
      ],
      "metadata": {
        "id": "Ss5aO53ra8lt"
      },
      "execution_count": null,
      "outputs": []
    },
    {
      "cell_type": "code",
      "source": [
        "# Dataset Describe\n",
        "df1.describe()\n",
        "\n"
      ],
      "metadata": {
        "id": "ETY1Gk0xU9dP"
      },
      "execution_count": null,
      "outputs": []
    },
    {
      "cell_type": "code",
      "source": [
        "# Dataset Describe\n",
        "df2.describe()"
      ],
      "metadata": {
        "id": "4GiHDesYU9Wf"
      },
      "execution_count": null,
      "outputs": []
    },
    {
      "cell_type": "markdown",
      "source": [
        "\n",
        "*\n",
        "Regional averages.\n",
        "\n",
        "*National average unemployment by year.\n",
        "\n",
        "*Identify highest & lowest unemployment regions.\n",
        "\n"
      ],
      "metadata": {
        "id": "EOBh1m7oeWwr"
      }
    },
    {
      "cell_type": "code",
      "source": [
        "df1.groupby(\"region\")[\"unemp_rate\"].describe()\n"
      ],
      "metadata": {
        "id": "-Gd9cjo0U9Rv"
      },
      "execution_count": null,
      "outputs": []
    },
    {
      "cell_type": "code",
      "source": [
        "df2.groupby(\"wb_region\")[\"unemp_rate\"].describe()"
      ],
      "metadata": {
        "id": "dqC3klB5eFoj"
      },
      "execution_count": null,
      "outputs": []
    },
    {
      "cell_type": "markdown",
      "source": [
        "# **WHAT DID I KNOW ABOUT THE DATASET?**\n",
        "\n",
        "\n",
        "The dataset I worked on contains unemployment rates from 2000 to 2024 across US states as well as World Bank regions.\n",
        "\n",
        "**Structure:**\n",
        "\n",
        "Each record includes a year, geographic identifier (state or region), and the corresponding unemployment rate (%).\n",
        "The data is in a panel/time-series format, meaning multiple states and regions are observed over multiple years.\n",
        "\n",
        "**Coverage:**\n",
        "\n",
        "It covers all 50 US states + DC and several global regions, giving both a national and international perspective on unemployment trends.\n",
        "\n",
        "**Purpose:**\n",
        "\n",
        "The dataset helps analyze:\n",
        "\n",
        "Trends over time (long-term unemployment changes from 2000–2024).\n",
        "\n",
        "Crisis impacts (e.g., 2008 financial crisis, COVID-19 in 2020).\n",
        "\n",
        "Regional disparities (which states or regions faced higher unemployment).\n",
        "\n",
        "Comparisons between US states and World Bank regions.\n",
        "\n",
        "\n",
        "**Value:**\n",
        "\n",
        "The dataset is useful for economic research, policy analysis, forecasting, and identifying vulnerable states/regions during crises."
      ],
      "metadata": {
        "id": "nU2SLfhaKDox"
      }
    },
    {
      "cell_type": "code",
      "source": [],
      "metadata": {
        "id": "i3FEHbUh0tko"
      },
      "execution_count": null,
      "outputs": []
    },
    {
      "cell_type": "markdown",
      "source": [
        "# **UNIVARIATE ANALYSIS**\n",
        "\n",
        "To see how unemployment rates are distributed across states and years."
      ],
      "metadata": {
        "id": "VxQtxnsR1Wop"
      }
    },
    {
      "cell_type": "code",
      "source": [
        "# Histogram of unemployment rates\n",
        "plt.figure(figsize=(10,6))\n",
        "sns.histplot(df1[\"unemp_rate\"], bins=30, kde=True, color=\"skyblue\")\n",
        "plt.title(\"Histogram of Unemployment Rates (All US States, 2000–2024)\")\n",
        "plt.xlabel(\"Unemployment Rate (%)\")\n",
        "plt.ylabel(\"Frequency\")\n",
        "plt.show()\n",
        "\n"
      ],
      "metadata": {
        "id": "gAjg3nXb1WNh"
      },
      "execution_count": null,
      "outputs": []
    },
    {
      "cell_type": "code",
      "source": [
        "# Boxplot of unemployment rates (overall distribution)\n",
        "plt.figure(figsize=(8,5))\n",
        "sns.boxplot(x=df1[\"unemp_rate\"], color=\"lightcoral\")\n",
        "plt.title(\"Boxplot of Unemployment Rates (2000–2024)\")\n",
        "plt.xlabel(\"Unemployment Rate (%)\")\n",
        "plt.show()\n",
        "\n"
      ],
      "metadata": {
        "id": "DvfuFF8e1mMs"
      },
      "execution_count": null,
      "outputs": []
    },
    {
      "cell_type": "code",
      "source": [
        "# Distribution across years\n",
        "plt.figure(figsize=(12,6))\n",
        "sns.boxplot(x=\"year\", y=\"unemp_rate\", data=df1, showfliers=False)\n",
        "plt.xticks(rotation=90)\n",
        "plt.title(\"Distribution of Unemployment Rates Across Years\")\n",
        "plt.ylabel(\"Unemployment Rate (%)\")\n",
        "plt.show()"
      ],
      "metadata": {
        "id": "grvChpkW1l2l"
      },
      "execution_count": null,
      "outputs": []
    },
    {
      "cell_type": "markdown",
      "source": [
        "### **UNIVARIATE**\n",
        "\n",
        "**Histograms & Boxplots of Unemployment Rates**\n",
        "\n",
        "**Why chosen:** To analyze overall distribution and detect outliers.\n",
        "\n",
        "**Insights:** Most unemployment rates fall between 4–8%, but crisis years create long right tails.\n",
        "\n",
        "**Impact:** Negative – high volatility during crises means instability in labor markets."
      ],
      "metadata": {
        "id": "LVBZvkE_dhaz"
      }
    },
    {
      "cell_type": "code",
      "source": [],
      "metadata": {
        "id": "2qnZgW820r4u"
      },
      "execution_count": null,
      "outputs": []
    },
    {
      "cell_type": "markdown",
      "source": [
        "\n",
        "# **BIVARIATE ANALYSIS**\n",
        "\n",
        "To check how unemployment relates across time, states, and regions.\n"
      ],
      "metadata": {
        "id": "fNWv-Tpt1vgx"
      }
    },
    {
      "cell_type": "code",
      "source": [
        "\n",
        "# Plot sample states\n",
        "sample_states = [\"California\",\"Texas\",\"New York\",\"Florida\",\"Nevada\"]\n",
        "for state in sample_states:\n",
        "    state_data = df1[df1[\"state_name\"]==state]\n",
        "    sns.lineplot(data=state_data, x=\"year\", y=\"unemp_rate\", label=state, alpha=0.7)\n",
        "\n",
        "plt.title(\"Unemployment Trends: US vs Selected States\")\n",
        "plt.ylabel(\"Unemployment Rate (%)\")\n",
        "plt.xlabel(\"Year\")\n",
        "plt.legend()\n",
        "plt.show()\n",
        "\n"
      ],
      "metadata": {
        "id": "Gssy5xrq2e8w"
      },
      "execution_count": null,
      "outputs": []
    },
    {
      "cell_type": "code",
      "source": [
        "# Heatmap: State unemployment by year\n",
        "pivot_us = df1.pivot_table(index=\"state_name\", columns=\"year\", values=\"unemp_rate\")\n",
        "plt.figure(figsize=(15,10))\n",
        "sns.heatmap(pivot_us, cmap=\"coolwarm\", cbar_kws={'label': 'Unemployment Rate (%)'})\n",
        "plt.title(\"Heatmap of US State Unemployment (2000–2024)\")\n",
        "plt.show()\n",
        "\n"
      ],
      "metadata": {
        "id": "rFbZ9vRB2e4L"
      },
      "execution_count": null,
      "outputs": []
    },
    {
      "cell_type": "code",
      "source": [
        "# Bar chart: Yearly average unemployment by state (for a specific year, say 2020)\n",
        "year_choice = 2020\n",
        "yearly_state_avg = df1[df1[\"year\"]==year_choice].sort_values(\"unemp_rate\", ascending=False)\n",
        "\n",
        "plt.figure(figsize=(12,8))\n",
        "sns.barplot(data=yearly_state_avg, x=\"unemp_rate\", y=\"state_name\", palette=\"magma\")\n",
        "plt.title(f\"Average Unemployment Rates by State in {year_choice}\")\n",
        "plt.xlabel(\"Unemployment Rate (%)\")\n",
        "plt.title(f\"Average Unemployment Rates by State in {year_choice}\")\n",
        "plt.xlabel(\"Unemployment Rate (%)\")\n",
        "plt.ylabel(\"State\")\n",
        "plt.show()"
      ],
      "metadata": {
        "id": "oh6mcIMD2ezc"
      },
      "execution_count": null,
      "outputs": []
    },
    {
      "cell_type": "markdown",
      "source": [
        "**BIVARIATE**\n",
        "\n",
        "**Line Plot (US National Unemployment Over Time)**\n",
        "\n",
        "Why chosen: To track unemployment trends across years.\n",
        "\n",
        "Insights: Steady before 2008, sharp spike in 2008–2010, recovery after 2011, another sharp spike in 2020, decline post-2021.\n",
        "\n",
        "Impact: Negative (crises cause major disruptions) but Positive (recovery patterns show resilience).\n",
        "\n",
        "\n",
        "\n",
        "**Heatmap (State Unemployment by Year)**\n",
        "\n",
        "Why chosen: To visualize unemployment differences across states and years.\n",
        "\n",
        "Insights: Nevada, Michigan, and California faced severe unemployment peaks; other states stayed closer to national average.\n",
        "\n",
        "Impact: Positive – policymakers can identify vulnerable states for targeted aid.\n",
        "\n",
        "**Bar Chart (Yearly Average Unemployment per State)**\n",
        "\n",
        "Why chosen: To rank states by average unemployment.\n",
        "\n",
        "Insights: West Virginia, Nevada, and Michigan show consistently higher rates.\n",
        "\n",
        "Impact: Positive – helps direct long-term employment policies to specific states."
      ],
      "metadata": {
        "id": "afi8wcUXeGIq"
      }
    },
    {
      "cell_type": "code",
      "source": [
        "sns.pairplot(df2)"
      ],
      "metadata": {
        "id": "kneemoHmT6qV"
      },
      "execution_count": null,
      "outputs": []
    },
    {
      "cell_type": "markdown",
      "source": [
        "\n",
        "# 1. US Overall Trend\n"
      ],
      "metadata": {
        "id": "4XDevTovw3sh"
      }
    },
    {
      "cell_type": "code",
      "source": [
        "\n",
        "plt.figure(figsize=(12,6))\n",
        "us_trend = df1.groupby(\"year\")[\"unemp_rate\"].mean()\n",
        "sns.lineplot(x=us_trend.index, y=us_trend.values, marker=\"o\")\n",
        "plt.title(\"US Average Unemployment Rate (2000–2024)\")\n",
        "plt.ylabel(\"Unemployment Rate (%)\")\n",
        "plt.xlabel(\"Year\")\n",
        "plt.show()"
      ],
      "metadata": {
        "id": "jvwmxW_Tw3E6"
      },
      "execution_count": null,
      "outputs": []
    },
    {
      "cell_type": "markdown",
      "source": [
        "# 2. US Regional Trends"
      ],
      "metadata": {
        "id": "zl5o0yWsxCMz"
      }
    },
    {
      "cell_type": "code",
      "source": [
        "plt.figure(figsize=(12,6))\n",
        "us_region_trend = df1.groupby([\"year\",\"region\"])[\"unemp_rate\"].mean().reset_index()\n",
        "sns.lineplot(data=us_region_trend, x=\"year\", y=\"unemp_rate\", hue=\"region\", marker=\"o\")\n",
        "plt.title(\"US Regional Unemployment Trends (2000–2024)\")\n",
        "plt.ylabel(\"Unemployment Rate (%)\")\n",
        "plt.show()"
      ],
      "metadata": {
        "id": "sqGYL7SOxII4"
      },
      "execution_count": null,
      "outputs": []
    },
    {
      "cell_type": "markdown",
      "source": [
        "# 3. Distribution Across States (Boxplot)"
      ],
      "metadata": {
        "id": "LS2FSP-dxetm"
      }
    },
    {
      "cell_type": "code",
      "source": [
        "plt.figure(figsize=(14,6))\n",
        "sns.boxplot(data=df1, x=\"region\", y=\"unemp_rate\")\n",
        "plt.title(\"Distribution of State Unemployment Rates by Region\")\n",
        "plt.ylabel(\"Unemployment Rate (%)\")\n",
        "plt.show()\n"
      ],
      "metadata": {
        "id": "B5qxkVSfxj-P"
      },
      "execution_count": null,
      "outputs": []
    },
    {
      "cell_type": "markdown",
      "source": [
        "# 5. Top 5 States with Highest Average Unemployment"
      ],
      "metadata": {
        "id": "6fsRk2s2yIWh"
      }
    },
    {
      "cell_type": "code",
      "source": [
        "top5_high = df1.groupby(\"state_name\")[\"unemp_rate\"].mean().nlargest(5)\n",
        "plt.figure(figsize=(8,5))\n",
        "sns.barplot(x=top5_high.values, y=top5_high.index)\n",
        "plt.title(\"Top 5 States with Highest Avg. Unemployment (2000–2024)\")\n",
        "plt.xlabel(\"Average Unemployment Rate (%)\")\n",
        "plt.show()\n"
      ],
      "metadata": {
        "id": "UPfEGWgpyPD2"
      },
      "execution_count": null,
      "outputs": []
    },
    {
      "cell_type": "markdown",
      "source": [
        "# 6. Top 5 States with Lowest Average Unemployment"
      ],
      "metadata": {
        "id": "35xm0a_2ycIY"
      }
    },
    {
      "cell_type": "code",
      "source": [
        "top5_low = df1.groupby(\"state_name\")[\"unemp_rate\"].mean().nsmallest(5)\n",
        "plt.figure(figsize=(8,5))\n",
        "sns.barplot(x=top5_low.values, y=top5_low.index, color=\"green\")\n",
        "plt.title(\"Top 5 States with Lowest Avg. Unemployment (2000–2024)\")\n",
        "plt.xlabel(\"Average Unemployment Rate (%)\")\n",
        "plt.show()"
      ],
      "metadata": {
        "id": "cWNEIYNoydoK"
      },
      "execution_count": null,
      "outputs": []
    },
    {
      "cell_type": "code",
      "source": [
        "#Top 10 States by Average Unemployment Rate in 2020\n",
        "\n",
        "year = 2020\n",
        "state_share = df1[df1[\"year\"]==year].groupby(\"state\")[\"unemp_rate\"].mean()\n",
        "\n",
        "plt.figure(figsize=(10,8))\n",
        "state_share.nlargest(10).plot.pie(autopct='%1.1f%%', startangle=140, colormap=\"tab20\")\n",
        "plt.title(f\"Top 10 States by Average Unemployment Rate in {year}\")\n",
        "plt.ylabel(\"\")\n",
        "plt.show()"
      ],
      "metadata": {
        "id": "Pr1bj0qp-0HL"
      },
      "execution_count": null,
      "outputs": []
    },
    {
      "cell_type": "markdown",
      "source": [
        "# 7. Global Trend (World Bank Regions Average)"
      ],
      "metadata": {
        "id": "msqrOYKmypw1"
      }
    },
    {
      "cell_type": "code",
      "source": [
        "plt.figure(figsize=(12,6))\n",
        "world_trend = df2.groupby(\"year\")[\"unemp_rate\"].mean()\n",
        "sns.lineplot(x=world_trend.index, y=world_trend.values, marker=\"o\", color=\"red\")\n",
        "plt.title(\"Global Average Unemployment Rate (2000–2024)\")\n",
        "plt.ylabel(\"Unemployment Rate (%)\")\n",
        "plt.xlabel(\"Year\")\n",
        "plt.show()"
      ],
      "metadata": {
        "id": "b70de6Vlyr3n"
      },
      "execution_count": null,
      "outputs": []
    },
    {
      "cell_type": "markdown",
      "source": [
        "# 8. World Regional Trends"
      ],
      "metadata": {
        "id": "dSkPxapzyzb9"
      }
    },
    {
      "cell_type": "code",
      "source": [
        "plt.figure(figsize=(12,6))\n",
        "sns.lineplot(data=df2, x=\"year\", y=\"unemp_rate\", hue=\"wb_region\", marker=\"o\")\n",
        "plt.title(\"World Bank Regional Unemployment Trends (2000–2024)\")\n",
        "plt.ylabel(\"Unemployment Rate (%)\")\n",
        "plt.show()\n"
      ],
      "metadata": {
        "id": "B2e8sWv1y8iR"
      },
      "execution_count": null,
      "outputs": []
    },
    {
      "cell_type": "markdown",
      "source": [
        "# 9. Compare US vs World Avg"
      ],
      "metadata": {
        "id": "CwzCRPjUzGaY"
      }
    },
    {
      "cell_type": "code",
      "source": [
        "plt.figure(figsize=(12,6))\n",
        "sns.lineplot(x=us_trend.index, y=us_trend.values, label=\"US Avg\", marker=\"o\")\n",
        "sns.lineplot(x=world_trend.index, y=world_trend.values, label=\"World Avg\", marker=\"s\", color=\"red\")\n",
        "plt.title(\"US vs World Average Unemployment (2000–2024)\")\n",
        "plt.ylabel(\"Unemployment Rate (%)\")\n",
        "plt.xlabel(\"Year\")\n",
        "plt.legend()\n",
        "plt.show()"
      ],
      "metadata": {
        "id": "8m_5KGQczGI3"
      },
      "execution_count": null,
      "outputs": []
    },
    {
      "cell_type": "markdown",
      "source": [
        "# 10.  Correlation Heatmap (US data only)"
      ],
      "metadata": {
        "id": "RR5Wimh5zUA6"
      }
    },
    {
      "cell_type": "code",
      "source": [
        "plt.figure(figsize=(6,4))\n",
        "sns.heatmap(df1.corr(numeric_only=True), annot=True, cmap=\"coolwarm\")\n",
        "plt.title(\"Correlation Heatmap (US Data)\")\n",
        "plt.show()\n"
      ],
      "metadata": {
        "id": "SaUAICcEzWj0"
      },
      "execution_count": null,
      "outputs": []
    },
    {
      "cell_type": "markdown",
      "source": [
        "**Correlation Heatmap**\n",
        "\n",
        "Why chosen: To examine if states’ unemployment rates move together.\n",
        "\n",
        "Insights: Strong correlations across most states → crises affect the entire economy.\n",
        "\n",
        "Impact: Positive – helps plan national-level interventions."
      ],
      "metadata": {
        "id": "VKcXkfCRhc5r"
      }
    },
    {
      "cell_type": "markdown",
      "source": [
        "# 11.  Trend Comparison: Pre-2008, Post-2008, Post-2020"
      ],
      "metadata": {
        "id": "OyzmhoMQzs_y"
      }
    },
    {
      "cell_type": "code",
      "source": [
        "plt.figure(figsize=(12,6))\n",
        "df1[\"period\"] = pd.cut(df1[\"year\"], bins=[1999,2007,2019,2024], labels=[\"Pre-2008\",\"2008–2019\",\"2020+\"])\n",
        "sns.boxplot(data=df1, x=\"period\", y=\"unemp_rate\")\n",
        "plt.title(\"US Unemployment Distribution Across Economic Periods\")\n",
        "plt.ylabel(\"Unemployment Rate (%)\")\n",
        "plt.show()\n"
      ],
      "metadata": {
        "id": "L3B9h9rNzyvn"
      },
      "execution_count": null,
      "outputs": []
    },
    {
      "cell_type": "markdown",
      "source": [
        "# **Trend Analysis (Time Series Analysis)**\n",
        "\n"
      ],
      "metadata": {
        "id": "mg6PUEH5fdno"
      }
    },
    {
      "cell_type": "code",
      "source": [
        "import statsmodels.api as sm\n",
        "\n",
        "# Rolling Averages (National Avg)\n",
        "us_trend = df1.groupby(\"year\")[\"unemp_rate\"].mean().reset_index()\n",
        "us_trend[\"rolling_avg\"] = us_trend[\"unemp_rate\"].rolling(window=3, center=True).mean()\n",
        "\n",
        "plt.figure(figsize=(12,6))\n",
        "plt.plot(us_trend[\"year\"], us_trend[\"unemp_rate\"], label=\"US Avg Unemployment\", marker=\"o\")\n",
        "plt.plot(us_trend[\"year\"], us_trend[\"rolling_avg\"], label=\"3-Year Rolling Avg\", linestyle=\"--\", color=\"red\")\n",
        "plt.title(\"US Unemployment with Rolling Average (2000–2024)\")\n",
        "plt.xlabel(\"Year\")\n",
        "plt.ylabel(\"Unemployment Rate (%)\")\n",
        "plt.legend()\n",
        "plt.show()\n",
        "\n"
      ],
      "metadata": {
        "id": "UuWy6bMJ4FyB"
      },
      "execution_count": null,
      "outputs": []
    },
    {
      "cell_type": "code",
      "source": [
        "# Crisis Period Comparison\n",
        "def plot_crisis_comparison(state_name):\n",
        "    data = df1[df1[\"state_name\"]==state_name]\n",
        "\n",
        "    plt.figure(figsize=(12,6))\n",
        "    sns.lineplot(data=data, x=\"year\", y=\"unemp_rate\", marker=\"o\", label=state_name)\n",
        "    plt.axvspan(2006, 2007, alpha=0.2, color=\"green\", label=\"Pre-2008\")\n",
        "    plt.axvspan(2008, 2010, alpha=0.3, color=\"red\", label=\"2008 Crisis\")\n",
        "    plt.axvspan(2011, 2015, alpha=0.2, color=\"blue\", label=\"Recovery 2011–2015\")\n",
        "    plt.axvspan(2018, 2019, alpha=0.2, color=\"green\")\n",
        "    plt.axvspan(2020, 2021, alpha=0.3, color=\"orange\", label=\"COVID Crisis\")\n",
        "    plt.axvspan(2022, 2024, alpha=0.2, color=\"blue\")\n",
        "\n",
        "    plt.title(f\"Crisis Period Comparison: {state_name}\")\n",
        "    plt.ylabel(\"Unemployment Rate (%)\")\n",
        "    plt.legend()\n",
        "    plt.show()\n"
      ],
      "metadata": {
        "id": "XEBFRs594nBB"
      },
      "execution_count": null,
      "outputs": []
    },
    {
      "cell_type": "code",
      "source": [
        "# Example: Compare crisis impacts on Nevada (biggest spike during 2008–2010 & 2020)\n",
        "plot_crisis_comparison(\"Nevada\")\n",
        "\n",
        "# Example: Compare crisis impacts on Texas (more stable)\n",
        "plot_crisis_comparison(\"Texas\")"
      ],
      "metadata": {
        "id": "s48_I3jf4ktU"
      },
      "execution_count": null,
      "outputs": []
    },
    {
      "cell_type": "code",
      "source": [
        "import matplotlib.pyplot as plt\n",
        "\n",
        "for region in df1[\"region\"].unique():\n",
        "    subset = df1[df1[\"region\"] == region]\n",
        "    plt.plot(subset[\"year\"], subset[\"unemp_rate\"], label=region)\n",
        "\n",
        "plt.legend()\n",
        "plt.title(\"State Level Unemployment Rate Trends by Region\")\n",
        "plt.show()\n"
      ],
      "metadata": {
        "id": "mWuq04CieFky"
      },
      "execution_count": null,
      "outputs": []
    },
    {
      "cell_type": "code",
      "source": [
        "import matplotlib.pyplot as plt\n",
        "\n",
        "for region in df2[\"wb_region\"].unique():\n",
        "    subset = df2[df2[\"wb_region\"] == region]\n",
        "    plt.plot(subset[\"year\"], subset[\"unemp_rate\"], label=region)\n",
        "\n",
        "plt.legend()\n",
        "plt.title(\"World Bank (region level) Unemployment Rate Trends by Region\")\n",
        "plt.show()\n"
      ],
      "metadata": {
        "id": "-7NMzKMJeFfx"
      },
      "execution_count": null,
      "outputs": []
    },
    {
      "cell_type": "code",
      "source": [
        "sns.lineplot(data=df2, x=\"year\", y=\"unemp_rate\")\n",
        "plt.title(\"U.S. Unemployment Rate \")\n",
        "plt.show()"
      ],
      "metadata": {
        "id": "j69NAqMLkE_d"
      },
      "execution_count": null,
      "outputs": []
    },
    {
      "cell_type": "code",
      "source": [],
      "metadata": {
        "id": "kVOvnO-XwCt_"
      },
      "execution_count": null,
      "outputs": []
    },
    {
      "cell_type": "markdown",
      "source": [
        "# **Pre- and Post-Crisis Comparison**\n",
        "\n"
      ],
      "metadata": {
        "id": "7EhDots_hKw5"
      }
    },
    {
      "cell_type": "markdown",
      "source": [
        "**Split dataset into pre-crisis and post-crisis (e.g., 2008, 2020).**"
      ],
      "metadata": {
        "id": "KgpYdj1shOUR"
      }
    },
    {
      "cell_type": "code",
      "source": [],
      "metadata": {
        "id": "buvBNNm7ou-3"
      },
      "execution_count": null,
      "outputs": []
    },
    {
      "cell_type": "code",
      "source": [
        "pre_crisis1 = df1[df1[\"year\"] < 2008]\n",
        "post_crisis1 = df1[df1[\"year\"] >= 2008]\n",
        "\n",
        "df1.groupby([\"region\", \"year\"])[\"unemp_rate\"].mean().unstack()\n",
        "def period(year):\n",
        "    if year < 2008:\n",
        "        return \"Pre-2008\"\n",
        "    elif year < 2020:\n",
        "        return \"Post-2008 Pre-2020\"\n",
        "    else:\n",
        "        return \"Post-2020\"\n",
        "\n",
        "df1['period'] = df1['year'].apply(period)\n",
        "import seaborn as sns\n",
        "import matplotlib.pyplot as plt\n",
        "\n",
        "plt.figure(figsize=(12, 6))\n",
        "sns.boxplot(x=\"region\", y=\"unemp_rate\", hue=\"period\", data=df1)\n",
        "plt.title(\"Unemployment Rate by Region and Period\")\n",
        "plt.ylabel(\"Unemployment Rate (%)\")\n",
        "plt.xlabel(\"U.S. Region\")\n",
        "plt.grid(True)\n",
        "plt.legend(title=\"Period\")\n",
        "plt.tight_layout()\n",
        "plt.show()"
      ],
      "metadata": {
        "id": "bAdvUi25eFca"
      },
      "execution_count": null,
      "outputs": []
    },
    {
      "cell_type": "markdown",
      "source": [
        "**Outlier Detection (Boxplot )**\n",
        "\n",
        "Why chosen: To identify extreme unemployment spikes.\n",
        "\n",
        "Insights: Nevada (2020), Michigan (2009) are strong outliers.\n",
        "\n",
        "Impact: Negative – shocks to certain industries (tourism, manufacturing) create vulnerability."
      ],
      "metadata": {
        "id": "56H_dFlDh6x3"
      }
    },
    {
      "cell_type": "code",
      "source": [
        "pre_crisis2 = df2[df2[\"year\"] < 2008]\n",
        "post_crisis2 = df2[df2[\"year\"] >= 2008]\n",
        "\n",
        "df2.groupby([\"wb_region\", \"year\"])[\"unemp_rate\"].mean().unstack()"
      ],
      "metadata": {
        "id": "EeqsfyumeFZI"
      },
      "execution_count": null,
      "outputs": []
    },
    {
      "cell_type": "markdown",
      "source": [
        "**Boxplots for visual comparison:**"
      ],
      "metadata": {
        "id": "2AY8J-TXiALu"
      }
    },
    {
      "cell_type": "code",
      "source": [
        "import seaborn as sns\n",
        "sns.boxplot(x=\"region\", y=\"unemp_rate\", hue=\"year\", data=df1)"
      ],
      "metadata": {
        "id": "smwvSJzseFTC"
      },
      "execution_count": null,
      "outputs": []
    },
    {
      "cell_type": "code",
      "source": [
        "import seaborn as sns\n",
        "sns.boxplot(x=\"wb_region\", y=\"unemp_rate\", hue=\"year\", data=df2)"
      ],
      "metadata": {
        "id": "D42956gtiKle"
      },
      "execution_count": null,
      "outputs": []
    },
    {
      "cell_type": "markdown",
      "source": [
        "# **Key Observations from EDA:**\n",
        "\n",
        "Unemployment has clear cyclical patterns, with spikes during the 2008 recession and the 2020 COVID crisis.\n",
        "\n",
        "Some states (e.g., Nevada, Michigan, California) were more affected during crises.\n",
        "\n",
        "Regional differences exist — for instance, developing regions tend to have more volatile unemployment trends compared to developed ones.\n",
        "\n",
        "Over the long term, post-crisis recoveries (2011–2015, 2022–2024) show unemployment gradually declining."
      ],
      "metadata": {
        "id": "sWCYSsH-LVJ2"
      }
    },
    {
      "cell_type": "code",
      "source": [],
      "metadata": {
        "id": "tl3VMGSc0nK7"
      },
      "execution_count": null,
      "outputs": []
    },
    {
      "cell_type": "markdown",
      "source": [
        "# **HYPOTHESIS TESTING**\n",
        "\n",
        "Crisis vs Pre-crisis\n",
        "\n",
        "H₀: Average unemployment rate in 2006–2007 = 2008–2010\n",
        "\n",
        "H₁: They are different (expect higher unemployment during crisis)."
      ],
      "metadata": {
        "id": "gOurJxpm_RZ9"
      }
    },
    {
      "cell_type": "code",
      "source": [
        "from scipy.stats import ttest_ind, f_oneway\n",
        "\n",
        "# Pre-crisis (2006–2007) vs Crisis (2008–2010)\n",
        "pre_crisis = df1[(df1[\"year\"].between(2006,2007))][\"unemp_rate\"]\n",
        "crisis = df1[(df1[\"year\"].between(2008,2010))][\"unemp_rate\"]\n",
        "\n",
        "t_stat, p_val = ttest_ind(pre_crisis, crisis, equal_var=False)\n",
        "print(\"T-test Pre-crisis vs Crisis:\")\n",
        "print(f\"T-stat = {t_stat:.3f}, p-value = {p_val:.5f}\")\n",
        "\n",
        "if p_val < 0.05:\n",
        "    print(\" Reject H₀: Unemployment significantly changed during crisis.\")\n",
        "else:\n",
        "    print(\"Fail to Reject H₀: No significant difference.\")\n"
      ],
      "metadata": {
        "id": "-BUhYXfxmI5S"
      },
      "execution_count": null,
      "outputs": []
    },
    {
      "cell_type": "markdown",
      "source": [
        "# **Time Series & Hypothesis Testing**\n",
        "\n",
        "\n",
        "**1.T-Test (Pre-crisis vs Crisis)**\n",
        "\n",
        "**Why chosen:** To confirm if crisis years significantly differ from pre-crisis years.\n",
        "\n",
        "**Insights:** T-stat = -8.427, p < 0.001, unemployment was significantly higher in crises.\n",
        "\n",
        "**Impact:** Negative – confirms high vulnerability to crises."
      ],
      "metadata": {
        "id": "_RpckDNRhBnM"
      }
    },
    {
      "cell_type": "markdown",
      "source": [
        "**Why is the p-value showing as 0.00000?**\n",
        "\n",
        "It’s not actually zero\n",
        "\n",
        "The true p-value is extremely small, smaller than the number of decimal places Python is printing.\n",
        "\n",
        "By default, scipy reports something like 3.2e-15, but if you format it with :.5f, it will round down to 0.00000.\n",
        "\n",
        "Strong evidence\n",
        "\n",
        "A p-value this small means the difference between pre-crisis (2006–2007) and crisis (2008–2010) unemployment is statistically very significant.\n",
        " report it as p < 0.001 (instead of saying it equals 0)."
      ],
      "metadata": {
        "id": "b8crJ-E4BI8D"
      }
    },
    {
      "cell_type": "code",
      "source": [],
      "metadata": {
        "id": "8b9vMRG-mI1n"
      },
      "execution_count": null,
      "outputs": []
    },
    {
      "cell_type": "markdown",
      "source": [
        "# **Conclusion**\n",
        "\n",
        "1. The dataset shows clear evidence of cyclical unemployment patterns, dominated by the 2008 financial crisis and 2020 COVID crisis.\n",
        "\n",
        "2. Certain states/regions are more vulnerable and need special policy focus.\n",
        "\n",
        "3. Statistical testing confirms significant differences in unemployment during crises.\n",
        "\n",
        "# **Business impact:**\n",
        "\n",
        "**Negative** → crises severely harm employment stability.\n",
        "\n",
        "**Positive** → insights can help governments, businesses, and policymakers forecast risks, allocate resources efficiently, and design targeted interventions."
      ],
      "metadata": {
        "id": "Kfq5Op2DYwcZ"
      }
    }
  ]
}